{
 "cells": [
  {
   "cell_type": "code",
   "execution_count": 2,
   "metadata": {},
   "outputs": [],
   "source": [
    "# x mod n\n",
    "def integer_modulo(x,n):\n",
    "    if n<=0:\n",
    "        return \"n must be a positive integer\"\n",
    "    r=x\n",
    "    while r>=n:\n",
    "        r=r-n\n",
    "    while r<0:\n",
    "        r=r+n\n",
    "    return r"
   ]
  },
  {
   "cell_type": "code",
   "execution_count": 3,
   "metadata": {},
   "outputs": [],
   "source": [
    "# (polynomial p with variable v) mod n\n",
    "def polynomial_modulo(p,n,v):\n",
    "    if n<=0:\n",
    "        return \"n must be a positive integer\"\n",
    "    newp=0\n",
    "    for i in range (len(p.coefficients(v))):\n",
    "        newp=newp+integer_modulo(p.coefficients(v)[i][0],n)*x^p.coefficients(v)[i][1]\n",
    "    return newp"
   ]
  },
  {
   "cell_type": "code",
   "execution_count": 4,
   "metadata": {},
   "outputs": [],
   "source": [
    "# return a list of p^k polynomials coefficients <p and degree of at most q-1(variable x)\n",
    "def GF(p,q):\n",
    "    q=q-1\n",
    "    poly=GF2(p,q)\n",
    "    return poly\n",
    "\n",
    "def GF2(p,q):\n",
    "    x=var('x')\n",
    "    poly=[]\n",
    "    if q!=0:\n",
    "        for i in range(p):\n",
    "            new=[i*x^q +k for k in GF2(p,q-1)]\n",
    "            poly=poly+new\n",
    "    else: \n",
    "        for i in range(p):\n",
    "            poly.append(i)\n",
    "    return poly"
   ]
  },
  {
   "cell_type": "code",
   "execution_count": 5,
   "metadata": {},
   "outputs": [],
   "source": [
    "# return all polynomials with variable x, coefficients <p, and degree q (for GF(p,q)) (variable x)\n",
    "def may_irreducible(p,q):\n",
    "    if q<2:\n",
    "        return \"q should >= 2\"\n",
    "    x=var('x')\n",
    "    field=GF(p,q)\n",
    "    poly=[]\n",
    "    for i in range(1,p):\n",
    "        for j in field:\n",
    "            poly.append(i*x^q+j)\n",
    "    return poly"
   ]
  },
  {
   "cell_type": "code",
   "execution_count": 6,
   "metadata": {},
   "outputs": [],
   "source": [
    "# find all possible i polynomials to be composed with, excluding jth polynomial from field\n",
    "from itertools import combinations \n",
    "def composition_arr(field,i,j):\n",
    "    field2=field[:]\n",
    "    field2.remove(j)\n",
    "    poly=list(combinations(field2, i))\n",
    "    return poly"
   ]
  },
  {
   "cell_type": "code",
   "execution_count": 7,
   "metadata": {},
   "outputs": [],
   "source": [
    "# return all composition polynomials of degree q, mod p, from GF(p,q)\n",
    "def composition_polynomial(p,q):\n",
    "    x=var('x')\n",
    "    field=GF(p,q)\n",
    "    # remove all constant elements\n",
    "    for i in range(p):\n",
    "        field.remove(i)\n",
    "    poly=[]\n",
    "    for i in range(1,len(field)):\n",
    "        for j in field:\n",
    "            poly2=composition_arr(field,i,j)\n",
    "            for k in range(len(poly2)):\n",
    "                new=0\n",
    "                for t in range(i): #len(poly2[])=i\n",
    "                    new=new+j.subs(x==poly2[k][t])\n",
    "                if new.degree(x)==q:\n",
    "                    new=polynomial_modulo(new,p,x)\n",
    "                    if new.degree(x)==q: #check again after modulo\n",
    "                        if new not in poly:\n",
    "                            poly.append(new)\n",
    "    return poly"
   ]
  },
  {
   "cell_type": "code",
   "execution_count": 8,
   "metadata": {},
   "outputs": [],
   "source": [
    "# check if x is a compositionally irreducible polynomial for GF(p,q)\n",
    "def is_compositional_irreducible(x,p,q):\n",
    "    poly=composition_polynomial(p,q)\n",
    "    if x in poly:\n",
    "        return false\n",
    "    return true"
   ]
  },
  {
   "cell_type": "code",
   "execution_count": 9,
   "metadata": {},
   "outputs": [],
   "source": [
    "# find all compositionally irreducible polynomials for GF(p,q)\n",
    "def find_compositional_irreducible(p,q):\n",
    "    poly=may_irreducible(p,q)\n",
    "    for i in range(len(poly)):\n",
    "        if is_compositional_irreducible(poly[i],p,q):\n",
    "            print(poly[i])"
   ]
  },
  {
   "cell_type": "code",
   "execution_count": 10,
   "metadata": {},
   "outputs": [],
   "source": [
    "def find_compositional_irreducible_complete(p,q):\n",
    "    field = GF(p,q)\n",
    "    #potential_poly = may_irreducible(p,q)\n",
    "    x=var('x')\n",
    "    potential_poly=[]\n",
    "    for i in range(1,p):\n",
    "        for j in field:\n",
    "            potential_poly.append(i*x^q+j)\n",
    "    \n",
    "    # remove all constant elements\n",
    "    for i in range(p):\n",
    "        field.remove(i)\n",
    "    #compute all reducible polynomials\n",
    "    field2=field[:]\n",
    "    poly=[]\n",
    "    for i in range(1,len(field)):\n",
    "        for j in range(0,len(field)):\n",
    "            temp=field[j]\n",
    "            field2.pop(j)\n",
    "            poly2=list(combinations(field2, i))\n",
    "            for k in range(len(poly2)):\n",
    "                new=0\n",
    "                for t in range(i): #len(poly2[])=i\n",
    "                    new=new+temp.subs(x==poly2[k][t])\n",
    "                if new.degree(x)==q:\n",
    "                    new=polynomial_modulo(new,p,x)\n",
    "                    if new.degree(x)==q: #check again after modulo\n",
    "                        if new not in poly:\n",
    "                            poly.append(new)\n",
    "            field2.insert(j,temp)\n",
    "    \n",
    "    #Compare and find irreducible polynomials\n",
    "    for i in range(len(potential_poly)):\n",
    "        if potential_poly[i] not in poly:\n",
    "            print(potential_poly[i])"
   ]
  },
  {
   "cell_type": "code",
   "execution_count": null,
   "metadata": {},
   "outputs": [],
   "source": []
  },
  {
   "cell_type": "code",
   "execution_count": null,
   "metadata": {},
   "outputs": [],
   "source": []
  },
  {
   "cell_type": "code",
   "execution_count": null,
   "metadata": {},
   "outputs": [],
   "source": []
  },
  {
   "cell_type": "code",
   "execution_count": 14,
   "metadata": {},
   "outputs": [],
   "source": [
    "# check if p is irreducible polynomial (of degree d) for GF(c,d)\n",
    "def initial_is_irreducible(p,d,c,v):\n",
    "    field=GF(c,d)\n",
    "    poly2=[]\n",
    "    for i in field:\n",
    "        for j in field:\n",
    "            x=polynomial_modulo(expand(i*j),c,v)\n",
    "            if x.degree(v)==d and x not in poly2:\n",
    "                poly2.append(x)\n",
    "    if p in poly2:\n",
    "        return false\n",
    "    return true"
   ]
  },
  {
   "cell_type": "code",
   "execution_count": 12,
   "metadata": {},
   "outputs": [],
   "source": [
    "# polynomial division, p=d*q+r, return [q,r]\n",
    "def polynomial_division(p,d,v):\n",
    "    if p.degree(v)>=1 and d.degree(v)>=1:\n",
    "        p=p.expand()\n",
    "        d=d.expand()\n",
    "        q=0\n",
    "        r=p\n",
    "        while p.degree(v)>=d.degree(v):\n",
    "            L=(p.coefficient(v^p.degree(v))/d.coefficient(v^d.degree(v)))*v^(p.degree(v)-d.degree(v))\n",
    "            p=p-(L*d).expand()\n",
    "            q=q+L\n",
    "        r=p\n",
    "        return [q,r]\n",
    "    else:\n",
    "        return \"invalid input, please input polynomials\""
   ]
  },
  {
   "cell_type": "code",
   "execution_count": 4,
   "metadata": {},
   "outputs": [],
   "source": [
    "# find all irreducible polynomial (with degree at most d) for GF(c,q), q from 0 to d-1\n",
    "def find_irreducible(c,d):\n",
    "    poly=GF(c,d+1)\n",
    "    for k in poly:\n",
    "        q = k.degree(x)\n",
    "        if initial_is_irreducible(k,q,c,x):\n",
    "            print(k)"
   ]
  },
  {
   "cell_type": "code",
   "execution_count": 1,
   "metadata": {},
   "outputs": [
    {
     "ename": "NameError",
     "evalue": "name 'find_compositional_irreducible_complete' is not defined",
     "output_type": "error",
     "traceback": [
      "\u001b[0;31m---------------------------------------------------------------------------\u001b[0m",
      "\u001b[0;31mNameError\u001b[0m                                 Traceback (most recent call last)",
      "\u001b[0;32m<ipython-input-1-897353d95a28>\u001b[0m in \u001b[0;36m<module>\u001b[0;34m()\u001b[0m\n\u001b[0;32m----> 1\u001b[0;31m \u001b[0mfind_compositional_irreducible_complete\u001b[0m\u001b[0;34m(\u001b[0m\u001b[0mInteger\u001b[0m\u001b[0;34m(\u001b[0m\u001b[0;36m2\u001b[0m\u001b[0;34m)\u001b[0m\u001b[0;34m,\u001b[0m\u001b[0mInteger\u001b[0m\u001b[0;34m(\u001b[0m\u001b[0;36m3\u001b[0m\u001b[0;34m)\u001b[0m\u001b[0;34m)\u001b[0m\u001b[0;34m\u001b[0m\u001b[0;34m\u001b[0m\u001b[0m\n\u001b[0m",
      "\u001b[0;31mNameError\u001b[0m: name 'find_compositional_irreducible_complete' is not defined"
     ]
    }
   ],
   "source": []
  },
  {
   "cell_type": "code",
   "execution_count": 13,
   "metadata": {},
   "outputs": [
    {
     "name": "stdout",
     "output_type": "stream",
     "text": [
      "x^3\n",
      "x^3 + 1\n",
      "x^3 + x\n",
      "x^3 + x + 1\n",
      "x^3 + x^2\n",
      "x^3 + x^2 + 1\n",
      "x^3 + x^2 + x\n",
      "x^3 + x^2 + x + 1\n"
     ]
    }
   ],
   "source": [
    "find_compositional_irreducible_complete(2,3)"
   ]
  },
  {
   "cell_type": "code",
   "execution_count": null,
   "metadata": {},
   "outputs": [],
   "source": []
  }
 ],
 "metadata": {
  "kernelspec": {
   "display_name": "SageMath 9.0",
   "language": "sage",
   "name": "sagemath"
  },
  "language_info": {
   "codemirror_mode": {
    "name": "ipython",
    "version": 3
   },
   "file_extension": ".py",
   "mimetype": "text/x-python",
   "name": "python",
   "nbconvert_exporter": "python",
   "pygments_lexer": "ipython3",
   "version": "3.7.3"
  }
 },
 "nbformat": 4,
 "nbformat_minor": 2
}
