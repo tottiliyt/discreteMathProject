{
 "cells": [
  {
   "cell_type": "code",
   "execution_count": 3,
   "metadata": {},
   "outputs": [],
   "source": [
    "# x mod n\n",
    "def integer_modulo(x,n):\n",
    "    if n<=0:\n",
    "        return \"n must be a positive integer\"\n",
    "    r=x\n",
    "    while r>=n:\n",
    "        r=r-n\n",
    "    while r<0:\n",
    "        r=r+n\n",
    "    return r"
   ]
  },
  {
   "cell_type": "code",
   "execution_count": 4,
   "metadata": {},
   "outputs": [],
   "source": [
    "# (polynomial p with variable v) mod n\n",
    "def polynomial_modulo(p,n,v):\n",
    "    if n<=0:\n",
    "        return \"n must be a positive integer\"\n",
    "    newp=0\n",
    "    for i in range (len(p.coefficients(v))):\n",
    "        newp=newp+integer_modulo(p.coefficients(v)[i][0],n)*x^p.coefficients(v)[i][1]\n",
    "    return newp"
   ]
  },
  {
   "cell_type": "code",
   "execution_count": 5,
   "metadata": {},
   "outputs": [],
   "source": [
    "# return a list of p^k polynomials coefficients <p and degree of at most q-1(; v is the variable\n",
    "def GF2(p,q,v):\n",
    "    q=q-1\n",
    "    poly=GF3(p,q,v)\n",
    "    return poly\n",
    "\n",
    "def GF3(p,q,v):\n",
    "    poly=[]\n",
    "    if q!=0:\n",
    "        for i in range(p):\n",
    "            new=[i*v^q +k for k in GF3(p,q-1,v)]\n",
    "            poly=poly+new\n",
    "    else: \n",
    "        for i in range(p):\n",
    "            poly.append(i)\n",
    "    return poly"
   ]
  },
  {
   "cell_type": "code",
   "execution_count": 6,
   "metadata": {},
   "outputs": [],
   "source": [
    "# return all polynomials with variable v, coefficients <p, and degree q (for GF(p,q)) (variable x)\n",
    "def may_irreducible(p,q,v):\n",
    "    if q<1:\n",
    "        return \"q should >= 1\"\n",
    "    field=GF2(p,q,v)\n",
    "    poly=[]\n",
    "    for i in range(1,p):\n",
    "        for j in field:\n",
    "            poly.append(i*v^q+j)\n",
    "    return poly"
   ]
  },
  {
   "cell_type": "code",
   "execution_count": 7,
   "metadata": {},
   "outputs": [],
   "source": [
    "from itertools import combinations \n",
    "# return all monomials with variable v and degree up to q-1, for GF(2,q)\n",
    "def monomial(q,v):\n",
    "    poly=[]\n",
    "    for i in range(1,q):\n",
    "        new=v^i\n",
    "        poly.append(new)\n",
    "    return poly\n",
    "\n",
    "# return a 2D list of all combinations of monomials with variable v and degree up to q-1, for GF(2,q)\n",
    "def combination_monomials(q,v):\n",
    "    origin=monomial(q,v)\n",
    "    poly=[]\n",
    "    for i in range(1,len(origin)+1):\n",
    "        new=list(combinations(origin, i))\n",
    "        poly=poly+new\n",
    "    return poly"
   ]
  },
  {
   "cell_type": "code",
   "execution_count": 8,
   "metadata": {},
   "outputs": [],
   "source": [
    "# return all compositionally reducible polynomials of variable v with degree q, for GF(2,q)\n",
    "def composition_polynomials_mod2(q,v):\n",
    "    field=GF2(2,q,v)\n",
    "    field.remove(0); # remove the constants\n",
    "    field.remove(1);\n",
    "    poly=[] # to store all reducible polynomials\n",
    "    compo=combination_monomials(q,v)\n",
    "    for i in field:\n",
    "        for j in range(len(compo)):\n",
    "            new=0\n",
    "            for k in compo[j]:\n",
    "                new=new+i.subs(v==k)\n",
    "            new=polynomial_modulo(new,2,v)\n",
    "            if new.degree(v) == q and new not in poly:\n",
    "                poly.append(new)\n",
    "    return poly"
   ]
  },
  {
   "cell_type": "code",
   "execution_count": 9,
   "metadata": {},
   "outputs": [],
   "source": [
    "# return all compositionally irreducible polynomials with variable v for GF(2,q)\n",
    "def find_compositional_irreducible_mod2(q,v):\n",
    "    field=may_irreducible(2,q,v)\n",
    "    poly=[] # to store all irreducible polyonmials\n",
    "    poly2=composition_polynomials_mod2(q,v)\n",
    "    for i in field:\n",
    "        if i not in poly2:\n",
    "            poly.append(i)\n",
    "    return poly        "
   ]
  },
  {
   "cell_type": "code",
   "execution_count": 10,
   "metadata": {
    "scrolled": true
   },
   "outputs": [
    {
     "data": {
      "text/plain": [
       "1"
      ]
     },
     "execution_count": 10,
     "metadata": {},
     "output_type": "execute_result"
    }
   ],
   "source": [
    "integer_modulo(10,3)"
   ]
  },
  {
   "cell_type": "code",
   "execution_count": null,
   "metadata": {},
   "outputs": [],
   "source": []
  }
 ],
 "metadata": {
  "kernelspec": {
   "display_name": "SageMath 9.0",
   "language": "sage",
   "name": "sagemath"
  },
  "language_info": {
   "codemirror_mode": {
    "name": "ipython",
    "version": 3
   },
   "file_extension": ".py",
   "mimetype": "text/x-python",
   "name": "python",
   "nbconvert_exporter": "python",
   "pygments_lexer": "ipython3",
   "version": "3.7.3"
  }
 },
 "nbformat": 4,
 "nbformat_minor": 2
}
