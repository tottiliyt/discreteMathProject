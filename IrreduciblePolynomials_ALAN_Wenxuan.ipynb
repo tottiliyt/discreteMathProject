{
 "cells": [
  {
   "cell_type": "code",
   "execution_count": 24,
   "metadata": {},
   "outputs": [],
   "source": [
    "def GFII(p,q,v):\n",
    "    \"\"\"\n",
    "    Outputs elements of finite field or Galois field GF(p^q). Where output all the polynomials\n",
    "    in the varible v that have coefficients less than input postive integer p \n",
    "    and degree less than input positive integer q.\n",
    "    \n",
    "\n",
    "    EXAMPLES:\n",
    "\n",
    "    ::\n",
    "        \n",
    "        sage: p = 2; q = 3; v = var('x') \n",
    "        sage: GFII(p,q,v)\n",
    "        [0, 1, x, x + 1, x^2, x^2 + 1, x^2 + x, x^2 + x + 1]\n",
    "        sage: p = 5; q = 2; v = var('x')\n",
    "        sage: GFII(p,q,v)\n",
    "        [0, 1, 2, 3, 4, x, x + 1, x + 2, x + 3, x + 4, 2*x, 2*x + 1, 2*x + 2, 2*x + 3, 2*x + 4,\n",
    "        3*x, 3*x + 1, 3*x + 2, 3*x + 3, 3*x + 4, 4*x, 4*x + 1, 4*x + 2, 4*x + 3, 4*x + 4]\n",
    "        sage: p = 1; d =1 ; v =var('x')\n",
    "        sage: GFII(p,q,v)\n",
    "        [0]\n",
    "\n",
    "        \n",
    "\n",
    "\n",
    "    AUTHORS:\n",
    "    - Alan Li and Wenxuan Lu\n",
    "    \"\"\"\n",
    "    poly=[]\n",
    "    if q!=1:\n",
    "        for i in range(p):\n",
    "            new=[i*v^(q-1) +k for k in GFII(p,q-1,v)]\n",
    "            poly=poly+new\n",
    "    else: \n",
    "        for i in range(p):\n",
    "            poly.append(i)\n",
    "    return poly"
   ]
  },
  {
   "cell_type": "code",
   "execution_count": 130,
   "metadata": {},
   "outputs": [],
   "source": [
    "def may_irreducible(p,q,v):\n",
    "    \"\"\"\n",
    "    Outputs all polynomials in the variable v, and positive coefficients less than \n",
    "    input integer p, and degree equal to input (q-1) (all output polynomials is in GF(p,q)) \n",
    "    \n",
    "\n",
    "    EXAMPLES:\n",
    "\n",
    "    ::\n",
    "        \n",
    "        sage: p = 2; q = 2; v = var('x') \n",
    "        sage: may_irreducible(2,2,x)\n",
    "        [x, x + 1]\n",
    "        sage: p = 3; q = 3; v = var('x')\n",
    "        sage: may_irreducible(3,3,x)\n",
    "        [x^2, x^2 + 1, x^2 + 2, x^2 + x, x^2 + x + 1, x^2 + x + 2, x^2 + 2*x, x^2 + 2*x + 1,\n",
    "         x^2 + 2*x + 2, 2*x^2, 2*x^2 + 1, 2*x^2 + 2, 2*x^2 + x, 2*x^2 + x + 1, 2*x^2 + x + 2,\n",
    "         2*x^2 + 2*x, 2*x^2 + 2*x + 1, 2*x^2 + 2*x + 2]\n",
    "        sage: p = 2; d =4; v =var('x')\n",
    "        sage: may_irreducible(2,4,x)\n",
    "        [x^3, x^3 + 1, x^3 + x, x^3 + x + 1, x^3 + x^2, x^3 + x^2 + 1, x^3 + x^2 + x,\n",
    "         x^3 + x^2 + x + 1]\n",
    "\n",
    "        \n",
    "\n",
    "    AUTHORS:\n",
    "    - Alan Li and Wenxuan Lu\n",
    "    \"\"\"\n",
    "    if q<1:\n",
    "        return \"q should >= 1\"\n",
    "    field=GFII(p,q,v)\n",
    "    poly=[]\n",
    "    for i in range(1,p):\n",
    "        for j in field:\n",
    "            poly.append(i*v^(q)+j)\n",
    "    return poly"
   ]
  },
  {
   "cell_type": "code",
   "execution_count": 29,
   "metadata": {},
   "outputs": [],
   "source": [
    "def DivisionII(p,d,v):\n",
    "    \"\"\"\n",
    "    Outputs result of the Euclidean division. Where the input\n",
    "    univariate polynomial p in the variable input v is the dividend\n",
    "    and the input univariate polynomial d in the input variable v is \n",
    "    the divisor.\n",
    "    \n",
    "    Since it's a function for polynomial division, constant c must\n",
    "    be written as c*x^0.\n",
    "\n",
    "\n",
    "    EXAMPLES:\n",
    "\n",
    "    ::\n",
    "        \n",
    "        sage: p = 4*x^3+3*x^2+2*x+1; d = 5*x^2+3*x+7; v = var('x') \n",
    "        sage: DivisionII(p,d,v)\n",
    "        [4/5*x + 3/25, -99/25*x + 4/25] \n",
    "        sage: p = x^2+2*x+1; d = 2*x^0; v = var('x')\n",
    "        sage: DivisionII(p,d,v)\n",
    "        [1/2*x^2+x+1/2, 0]\n",
    "        sage: p = x^2+x+1; d =x^5 ; v =var('x')\n",
    "        sage: DivisionII(p,d,v)\n",
    "        [0, x^2+x+1]\n",
    "        sage: p = x^2+x+1; d =0*x^5 ; v =var('x')\n",
    "        sage: DivisionII(p,d,v)\n",
    "        \"Invalid input, can't divided by zero!\"\n",
    "        \n",
    "\n",
    "\n",
    "    AUTHORS:\n",
    "    - Alan Li and Wenxuan Lu\n",
    "    \"\"\"\n",
    "    if p.degree(v)>=1 and d.degree(v)>=1:\n",
    "        p=p.expand(); d=d.expand()\n",
    "        q=0; r=p\n",
    "        while p.degree(v)>=d.degree(v):\n",
    "            L=(p.coefficient(v^p.degree(v))/d.coefficient(v^d.degree(v)))*v^(p.degree(v)-d.degree(v))\n",
    "            p=p-(L*d).expand()\n",
    "            q=q+L\n",
    "        r=p\n",
    "        return [q, r]\n",
    "    else:\n",
    "        if d.degree(v)==0:\n",
    "            if d==0*v^0:\n",
    "                return \"Invalid input, can't divided by zero!\"\n",
    "            else:\n",
    "                q=p/d\n",
    "                r=0\n",
    "                return[q,r]\n",
    "        if p.degree(v)==0:\n",
    "            q=0;\n",
    "            r=p;\n",
    "            return[q,r]\n",
    "        "
   ]
  },
  {
   "cell_type": "code",
   "execution_count": 82,
   "metadata": {},
   "outputs": [],
   "source": [
    "def modulo_n(p,n,v):\n",
    "        \"\"\"\n",
    "    Outputs result of polynomial modulo integer n. Where the input univariate polynomial p\n",
    "    in the variable input v modulo the input positive integer n. \n",
    "\n",
    "    EXAMPLES:\n",
    "\n",
    "    ::\n",
    "        \n",
    "        sage: p = x^2+2*x+1; n = 2; v = var('x') \n",
    "        sage: modulo_n(p,n,v)\n",
    "        [x^2 + 1]\n",
    "        sage: p = x^2+5*x+1; n = 3; v = var('x')\n",
    "        sage: modulo_n(p,n,v)\n",
    "        [x^2 + 2*x + 1]\n",
    "        sage: p = 4*x^3+3*x^2+2*x+1; n =2 ; v =var('x')\n",
    "        sage: modulo_n(p,n,v)\n",
    "        [x^2 + 1]\n",
    "\n",
    "        \n",
    "\n",
    "\n",
    "    AUTHORS:\n",
    "    - Alan Li and Wenxuan Lu\n",
    "    \"\"\"\n",
    "        newp=0;\n",
    "        k=p.coefficients(v)\n",
    "        for i in range(len(k)):\n",
    "            if k[i][0]<n:\n",
    "                newp=newp+k[i][0]*x^k[i][1]\n",
    "            else:\n",
    "                newp=newp+(Integer(k[i][0])%n)*x^k[i][1]\n",
    "        return newp;"
   ]
  },
  {
   "cell_type": "code",
   "execution_count": 137,
   "metadata": {},
   "outputs": [],
   "source": [
    "def find_irreducible(c,d,v):\n",
    "    \"\"\"\n",
    "    Outputs elements of all irrducible polynomials of finite field or Galois field GF(c^d). \n",
    "    irrducible polynomials are defined as f(v) in input variable v,\n",
    "    such that if there do not exist two nonconstant polynomials g(v) and h(v) in input\n",
    "    variable v with integer coefficients such that f(v)=g(v)h(v).\n",
    "    Where all polynomial has positive coefficients less thaninput integer c, \n",
    "    and degree less than or equal to input d\n",
    "    \n",
    "\n",
    "    EXAMPLES:\n",
    "\n",
    "    ::\n",
    "        \n",
    "        sage: p = 2; q = 2; v = var('x') \n",
    "        sage: find_irreducible(2,2,x)\n",
    "        [x^2 + x + 1]\n",
    "        sage: p = 2; q = 4; v = var('x')\n",
    "        sage: find_irreducible(2,4,x)\n",
    "        [x^4 + x + 1, x^4 + x^3 + 1, x^4 + x^3 + x^2 + x + 1]\n",
    "        sage: p = 2; d =5 ; v =var('x')\n",
    "        sage: find_irreducible(2,5,x)\n",
    "        [x^5 + x^2 + 1, x^5 + x^3 + 1, x^5 + x^3 + x^2 + x + 1, x^5 + x^4 + x^2 + x + 1,\n",
    "         x^5 + x^4 + x^3 + x + 1, x^5 + x^4 + x^3 + x^2 + 1]\n",
    "\n",
    "        \n",
    "\n",
    "\n",
    "    AUTHORS:\n",
    "    - Alan Li and Wenxuan Lu\n",
    "    \"\"\"\n",
    "    poly=may_irreducible(c,d,v);\n",
    "    \n",
    "    poly2=[]\n",
    "    for i in range(1,floor(d/2)+1):\n",
    "        first=[]\n",
    "        second=[]\n",
    "        \n",
    "        first=may_irreducible(c,i,v)\n",
    "        \n",
    "        second=may_irreducible(c,d-i,v)\n",
    "        \n",
    "        for i in first:\n",
    "            for j in second:\n",
    "                poly2.append(modulo_n(expand(i*j),c,v))\n",
    "    \n",
    "    for k in poly:\n",
    "        if k not in poly2:\n",
    "            print(k)\n",
    "  \n",
    "    "
   ]
  },
  {
   "cell_type": "code",
   "execution_count": 143,
   "metadata": {
    "scrolled": false
   },
   "outputs": [
    {
     "name": "stdout",
     "output_type": "stream",
     "text": [
      "x^5 + x^2 + 1\n",
      "x^5 + x^3 + 1\n",
      "x^5 + x^3 + x^2 + x + 1\n",
      "x^5 + x^4 + x^2 + x + 1\n",
      "x^5 + x^4 + x^3 + x + 1\n",
      "x^5 + x^4 + x^3 + x^2 + 1\n"
     ]
    }
   ],
   "source": [
    "find_irreducible(2,5,v)"
   ]
  },
  {
   "cell_type": "code",
   "execution_count": 142,
   "metadata": {},
   "outputs": [
    {
     "name": "stdout",
     "output_type": "stream",
     "text": [
      "x^4 + x + 1\n",
      "x^4 + x^3 + 1\n",
      "x^4 + x^3 + x^2 + x + 1\n"
     ]
    }
   ],
   "source": [
    "find_irreducible(2,4,x)"
   ]
  },
  {
   "cell_type": "code",
   "execution_count": 141,
   "metadata": {},
   "outputs": [
    {
     "name": "stdout",
     "output_type": "stream",
     "text": [
      "x^5 + x^2 + 1\n",
      "x^5 + x^3 + 1\n",
      "x^5 + x^3 + x^2 + x + 1\n",
      "x^5 + x^4 + x^2 + x + 1\n",
      "x^5 + x^4 + x^3 + x + 1\n",
      "x^5 + x^4 + x^3 + x^2 + 1\n"
     ]
    }
   ],
   "source": [
    "find_irreducible(2,5,x)"
   ]
  },
  {
   "cell_type": "code",
   "execution_count": 128,
   "metadata": {},
   "outputs": [
    {
     "data": {
      "text/plain": [
       "[x^4,\n",
       " x^4 + 1,\n",
       " x^4 + x,\n",
       " x^4 + x + 1,\n",
       " x^4 + x^2,\n",
       " x^4 + x^2 + 1,\n",
       " x^4 + x^2 + x,\n",
       " x^4 + x^2 + x + 1,\n",
       " x^4 + x^3,\n",
       " x^4 + x^3 + 1,\n",
       " x^4 + x^3 + x,\n",
       " x^4 + x^3 + x + 1,\n",
       " x^4 + x^3 + x^2,\n",
       " x^4 + x^3 + x^2 + 1,\n",
       " x^4 + x^3 + x^2 + x,\n",
       " x^4 + x^3 + x^2 + x + 1,\n",
       " 2*x^4,\n",
       " 2*x^4 + 1,\n",
       " 2*x^4 + x,\n",
       " 2*x^4 + x + 1,\n",
       " 2*x^4 + x^2,\n",
       " 2*x^4 + x^2 + 1,\n",
       " 2*x^4 + x^2 + x,\n",
       " 2*x^4 + x^2 + x + 1,\n",
       " 2*x^4 + x^3,\n",
       " 2*x^4 + x^3 + 1,\n",
       " 2*x^4 + x^3 + x,\n",
       " 2*x^4 + x^3 + x + 1,\n",
       " 2*x^4 + x^3 + x^2,\n",
       " 2*x^4 + x^3 + x^2 + 1,\n",
       " 2*x^4 + x^3 + x^2 + x,\n",
       " 2*x^4 + x^3 + x^2 + x + 1]"
      ]
     },
     "execution_count": 128,
     "metadata": {},
     "output_type": "execute_result"
    }
   ],
   "source": [
    "may_irreducible(2,5,v)"
   ]
  },
  {
   "cell_type": "code",
   "execution_count": 133,
   "metadata": {},
   "outputs": [
    {
     "data": {
      "text/plain": [
       "[x^3,\n",
       " x^3 + 1,\n",
       " x^3 + x,\n",
       " x^3 + x + 1,\n",
       " x^3 + x^2,\n",
       " x^3 + x^2 + 1,\n",
       " x^3 + x^2 + x,\n",
       " x^3 + x^2 + x + 1]"
      ]
     },
     "execution_count": 133,
     "metadata": {},
     "output_type": "execute_result"
    }
   ],
   "source": [
    "may_irreducible(2,3,x)"
   ]
  },
  {
   "cell_type": "code",
   "execution_count": null,
   "metadata": {},
   "outputs": [],
   "source": [
    "GF(4,)"
   ]
  }
 ],
 "metadata": {
  "kernelspec": {
   "display_name": "SageMath 9.0",
   "language": "sage",
   "name": "sagemath"
  },
  "language_info": {
   "codemirror_mode": {
    "name": "ipython",
    "version": 3
   },
   "file_extension": ".py",
   "mimetype": "text/x-python",
   "name": "python",
   "nbconvert_exporter": "python",
   "pygments_lexer": "ipython3",
   "version": "3.7.3"
  }
 },
 "nbformat": 4,
 "nbformat_minor": 2
}
