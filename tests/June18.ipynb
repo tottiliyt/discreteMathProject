{
 "cells": [
  {
   "cell_type": "code",
   "execution_count": null,
   "metadata": {},
   "outputs": [],
   "source": [
    "\"\"\"\n",
    "References to functions in the code:\n",
    "integer_modulo(x,n) # x mod n\n",
    "polynomial_modulo(p,n,v) # p mod n\n",
    "polynomial_division(p,d,v) # p / d, return [quotient, remainder]\n",
    "def GF(p,q,v)\n",
    "degree_of_q_polynomials(p,q,v)\n",
    "find_irreducible_polynomial(p,q,v) # irreducible polynomials of degree q\n",
    "\n",
    "---- find compositional irreducible polynomials mod 2 (composed with all polynomials in the field)(exclude constants) ----\n",
    "find_compositional_irreducible_mod2_by_allPoly(irre,p,q,v)\n",
    "\n",
    "\"\"\""
   ]
  },
  {
   "cell_type": "code",
   "execution_count": 2,
   "metadata": {},
   "outputs": [],
   "source": [
    "def integer_modulo(x,n):\n",
    "    if n<=0:\n",
    "        return \"n must be a positive integer\"\n",
    "    r=x\n",
    "    while r>=n:\n",
    "        r=r-n\n",
    "    while r<0:\n",
    "        r=r+n\n",
    "    return r"
   ]
  },
  {
   "cell_type": "code",
   "execution_count": 3,
   "metadata": {},
   "outputs": [],
   "source": [
    "def polynomial_modulo(p,n,v):\n",
    "    if n<0:\n",
    "        return \"n must be a positive integer\"\n",
    "    newp=0\n",
    "    for i in range (len(p.coefficients(v))):\n",
    "        newp=newp+integer_modulo(p.coefficients(v)[i][0],n)*v^p.coefficients(v)[i][1]\n",
    "    return newp"
   ]
  },
  {
   "cell_type": "code",
   "execution_count": 4,
   "metadata": {},
   "outputs": [],
   "source": [
    "# p is the dividend; d is the divisor; v is the variable; output[q,r], quotient and remainder\n",
    "def polynomial_division(p,d,v):\n",
    "    if p.degree(v)>=1 and d.degree(v)>=1:\n",
    "        p=p.expand()\n",
    "        d=d.expand()\n",
    "        q=0\n",
    "        r=p\n",
    "        while p.degree(v)>=d.degree(v):\n",
    "            L=(p.coefficient(v^p.degree(v))/d.coefficient(v^d.degree(v)))*v^(p.degree(v)-d.degree(v))\n",
    "            p=p-(L*d).expand()\n",
    "            q=q+L\n",
    "        r=p\n",
    "        return [q,r]\n",
    "    else:\n",
    "        if d.degree(v)==0:\n",
    "            if d==0*v^0:\n",
    "                return \"Invalid input, can't divided by zero!\"\n",
    "            else:\n",
    "                q=p/d\n",
    "                r=0\n",
    "                return[q,r]\n",
    "        if p.degree(v)==0:\n",
    "            q=0;\n",
    "            r=p;\n",
    "            return[q,r]"
   ]
  },
  {
   "cell_type": "code",
   "execution_count": 5,
   "metadata": {},
   "outputs": [],
   "source": [
    "def GF(p,q,v):\n",
    "    poly=[];\n",
    "    if q!=1:\n",
    "        for i in range(p):\n",
    "            new=[i*v^(q-1) + k for k in GF(p,q-1,v)]\n",
    "            poly=poly+new\n",
    "    else:\n",
    "        for i in range(p):\n",
    "            poly.append(i)\n",
    "    return poly"
   ]
  },
  {
   "cell_type": "code",
   "execution_count": 6,
   "metadata": {},
   "outputs": [],
   "source": [
    "def degree_of_q_polynomials(p,q,v):\n",
    "    if q<1:\n",
    "        return \"q should >= 1\"\n",
    "    field=GF(p,q,v)\n",
    "    poly=[]\n",
    "    for i in range(1,p):\n",
    "        for j in field:\n",
    "            poly.append(i*v^q+j)\n",
    "    return poly"
   ]
  },
  {
   "cell_type": "code",
   "execution_count": 7,
   "metadata": {},
   "outputs": [],
   "source": [
    "#Outputs all the irreducible polynomials in the varible v that with coefficients less than p, and degree of q\n",
    "def find_irreducible_polynomial(p,q,v):\n",
    "    field = GF(p,q,v) \n",
    "    \n",
    "    poly=[] # the same as poly = degree_of_q_polynomials(p,q,v), but more efficient\n",
    "    for i in range(1,p):\n",
    "        for j in field:\n",
    "            poly.append(i*v^q+j)\n",
    "    \n",
    "    for i in range(p): # remove all constants, which cannot produce a polynomial of degree q\n",
    "        field.remove(i)\n",
    "    \n",
    "    for i in field:\n",
    "        for j in range( p ** (q - i.degree(v)) - p, len(field)): # polynomial with smaller degree cannot produce a polynomial of degree q\n",
    "            result = polynomial_modulo((i * field[j]).expand(),p,v)\n",
    "            if result.degree(v) == q and result in poly: # remove reducible polynomial and avoid multiple removing of the same polynomial\n",
    "                poly.remove(result) \n",
    "    return poly"
   ]
  },
  {
   "cell_type": "code",
   "execution_count": 11,
   "metadata": {},
   "outputs": [],
   "source": [
    "from itertools import combinations \n",
    "def find_compositional_irreducible_mod2_by_allPoly(irre,p,q,v):\n",
    "    field = GF(p,q,v)\n",
    "    \n",
    "    field_of_degree_q = []\n",
    "    for i in range(1,p):\n",
    "        for j in field:\n",
    "            field_of_degree_q.append(i*v^q+j)\n",
    "\n",
    "    # remove all constants\n",
    "    field.remove(0)\n",
    "    field.remove(1)\n",
    "    \n",
    "    for i in field: # to compose with i\n",
    "        \n",
    "        individual_compo = [] # store all composition polynomials by compose i with one non-constant polynomial in the field\n",
    "        for j in field:\n",
    "            new=j.subs(v==i)\n",
    "            new=polynomial_modulo(new,2,v)\n",
    "            if new not in individual_compo:\n",
    "                individual_compo.append(new)\n",
    "        \n",
    "        \n",
    "        compo = [] # store all possible combinations of component composition polynomials\n",
    "        for j in range(1,len(individual_compo)+1):\n",
    "            new2=list(combinations(individual_compo, j))\n",
    "            \n",
    "            compo=compo+new2\n",
    "           \n",
    "        \n",
    "        \n",
    "        for j in range(len(compo)):\n",
    "            new3=0\n",
    "            \n",
    "            for k in range(len(compo[j])):\n",
    "                new3=new3+compo[j][k]\n",
    "            \n",
    "            new3=polynomial_modulo(new3,2,v)\n",
    "            #comment the next line to get compositional polynoamils with respect to no irreducible polnomial\n",
    "            new3 = polynomial_division(new3,irre,v)[1] # the remainder is a polynomial with degree less than or equal q\n",
    "            new3 = polynomial_modulo(new3,2,v)\n",
    "            if new3.degree(v) == q and new3 in field_of_degree_q:\n",
    "                field_of_degree_q.remove(new3)\n",
    "    return field_of_degree_q\n",
    "    "
   ]
  },
  {
   "cell_type": "code",
   "execution_count": 14,
   "metadata": {},
   "outputs": [
    {
     "name": "stdout",
     "output_type": "stream",
     "text": [
      "[v^4 + v^3 + v^2, v^4 + v^3 + v^2 + 1]\n",
      "[v^4 + v^3 + v^2 + v, v^4 + v^3 + v^2 + v + 1]\n",
      "[]\n",
      "[v^4 + v^3 + v, v^4 + v^3 + v + 1]\n",
      "[]\n",
      "[v^4 + v^3, v^4 + v^3 + 1]\n"
     ]
    }
   ],
   "source": [
    "v=var('v')\n",
    "irre = find_irreducible_polynomial(2,5,v)\n",
    "for a in irre:\n",
    "    poly=find_compositional_irreducible_mod2_by_allPoly(a,2,4,v);\n",
    "    print(poly)"
   ]
  },
  {
   "cell_type": "code",
   "execution_count": 15,
   "metadata": {},
   "outputs": [
    {
     "data": {
      "text/plain": [
       "[v^4,\n",
       " v^4 + 1,\n",
       " v^4 + v,\n",
       " v^4 + v + 1,\n",
       " v^4 + v^2,\n",
       " v^4 + v^2 + 1,\n",
       " v^4 + v^2 + v,\n",
       " v^4 + v^2 + v + 1,\n",
       " v^4 + v^3,\n",
       " v^4 + v^3 + 1,\n",
       " v^4 + v^3 + v,\n",
       " v^4 + v^3 + v + 1,\n",
       " v^4 + v^3 + v^2,\n",
       " v^4 + v^3 + v^2 + 1,\n",
       " v^4 + v^3 + v^2 + v,\n",
       " v^4 + v^3 + v^2 + v + 1]"
      ]
     },
     "execution_count": 15,
     "metadata": {},
     "output_type": "execute_result"
    }
   ],
   "source": [
    "degree_of_q_polynomials(2,4,v)"
   ]
  },
  {
   "cell_type": "code",
   "execution_count": null,
   "metadata": {},
   "outputs": [],
   "source": []
  }
 ],
 "metadata": {
  "kernelspec": {
   "display_name": "SageMath 9.0",
   "language": "sage",
   "name": "sagemath"
  },
  "language_info": {
   "codemirror_mode": {
    "name": "ipython",
    "version": 3
   },
   "file_extension": ".py",
   "mimetype": "text/x-python",
   "name": "python",
   "nbconvert_exporter": "python",
   "pygments_lexer": "ipython3",
   "version": "3.7.3"
  }
 },
 "nbformat": 4,
 "nbformat_minor": 2
}
